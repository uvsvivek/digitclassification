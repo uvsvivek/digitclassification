{
 "cells": [
  {
   "cell_type": "code",
   "execution_count": 1,
   "metadata": {},
   "outputs": [
    {
     "name": "stderr",
     "output_type": "stream",
     "text": [
      "Using TensorFlow backend.\n"
     ]
    }
   ],
   "source": [
    "from keras.models import load_model\n",
    "model=load_model('E://digit-classification//v.h5')\n",
    "#loading the model"
   ]
  },
  {
   "cell_type": "code",
   "execution_count": 2,
   "metadata": {},
   "outputs": [],
   "source": [
    "import cv2"
   ]
  },
  {
   "cell_type": "code",
   "execution_count": 3,
   "metadata": {},
   "outputs": [],
   "source": [
    "from keras.models import load_model\n",
    "from tkinter import *\n",
    "import tkinter as tk\n",
    "import win32gui\n",
    "from PIL import ImageGrab,Image,ImageDraw\n",
    "import numpy as np"
   ]
  },
  {
   "cell_type": "code",
   "execution_count": null,
   "metadata": {},
   "outputs": [],
   "source": [
    "import matplotlib.pyplot as plt \n",
    "def predict_digit(img):\n",
    "    #print(\"original\",img.size)\n",
    "    mg=img.resize((28,28))\n",
    "    plt.imshow(mg)\n",
    "    #print(\"resized image\",mg.size)\n",
    "    mg=mg.convert('L')\n",
    "    mg=np.array(mg)\n",
    "    mg=mg.reshape(1,28,28,1)\n",
    "    #print(\"after resize,mg.size\")\n",
    "    mg=mg/255.0\n",
    "    #print(\"normalization\",mg.size)\n",
    "    res=model.predict([mg])[0]\n",
    "    #print(res)\n",
    "    #print(np.argmax(res),max(res))\n",
    "    return np.argmax(res),max(res)\n",
    "    \n",
    "class app(tk.Tk):\n",
    "    def __init__(self):\n",
    "        tk.Tk.__init__(self)\n",
    "        self.x=self.y=0\n",
    "              \n",
    "        #creating element\n",
    "        self.canvas=tk.Canvas(self,width=500,height=500,bg='white',cursor=\"cross\")\n",
    "        self.label=tk.Label(self,text=\"write the digit\",font=(\"Helvitica\",48))\n",
    "        self.calssify_btn=tk.Button(self,text=\"recognise\",command=self.clasify_handwritten)\n",
    "        self.clear_button=tk.Button(self,text=\"clear\",command=self.clear_all)\n",
    "        #grid\n",
    "        self.canvas.grid(row=0,column=0,pady=2,sticky=W)\n",
    "        self.label.grid(row=0,column=1,pady=2,padx=2)\n",
    "        self.calssify_btn.grid(row=1,column=1,pady=2,padx=2)\n",
    "        self.clear_button.grid(row=1,column=0,pady=2)\n",
    "        self.canvas.bind(\"<B1-Motion>\",self.draw_lines)\n",
    "    def clear_all(self):\n",
    "        self.canvas.delete(\"all\")\n",
    "        \n",
    "    def clasify_handwritten(self):\n",
    "        hwd=self.canvas.winfo_id()\n",
    "        print(\"hwd\",hwd)\n",
    "        c=win32gui.GetWindowRect(hwd)\n",
    "        print(\"c\",c)\n",
    "        \n",
    "        #plt.imshow(c)\n",
    "        im=ImageGrab.grab(c)\n",
    "        num,per=predict_digit(im)\n",
    "        self.label.configure(text=str(num)+','+str(int(per*100))+'%')\n",
    "    def draw_lines(self,event):\n",
    "        self.x=event.x\n",
    "        self.y=event.y\n",
    "        r=10\n",
    "        self.canvas.create_oval(self.x-r,self.y-r,self.x+r,self.y+r,fill='black')     \n",
    "app=app()\n",
    "mainloop()"
   ]
  },
  {
   "cell_type": "code",
   "execution_count": null,
   "metadata": {},
   "outputs": [],
   "source": []
  }
 ],
 "metadata": {
  "kernelspec": {
   "display_name": "Python 3",
   "language": "python",
   "name": "python3"
  },
  "language_info": {
   "codemirror_mode": {
    "name": "ipython",
    "version": 3
   },
   "file_extension": ".py",
   "mimetype": "text/x-python",
   "name": "python",
   "nbconvert_exporter": "python",
   "pygments_lexer": "ipython3",
   "version": "3.7.4"
  }
 },
 "nbformat": 4,
 "nbformat_minor": 2
}
